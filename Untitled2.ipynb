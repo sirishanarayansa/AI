{
  "nbformat": 4,
  "nbformat_minor": 0,
  "metadata": {
    "colab": {
      "name": "Untitled2.ipynb",
      "provenance": [],
      "authorship_tag": "ABX9TyPdkuSuAWuFUaR9QThpN/hJ",
      "include_colab_link": true
    },
    "kernelspec": {
      "name": "python3",
      "display_name": "Python 3"
    },
    "language_info": {
      "name": "python"
    }
  },
  "cells": [
    {
      "cell_type": "markdown",
      "metadata": {
        "id": "view-in-github",
        "colab_type": "text"
      },
      "source": [
        "<a href=\"https://colab.research.google.com/github/sirishanarayansa/AI/blob/main/Untitled2.ipynb\" target=\"_parent\"><img src=\"https://colab.research.google.com/assets/colab-badge.svg\" alt=\"Open In Colab\"/></a>"
      ]
    },
    {
      "cell_type": "code",
      "metadata": {
        "colab": {
          "base_uri": "https://localhost:8080/"
        },
        "id": "kIucG1tH6F52",
        "outputId": "0809d9e6-55fa-4be1-c0c7-8a8c3b50e9d9"
      },
      "source": [
        "!wget https://raw.githubusercontent.com/sirishanarayansa/AI/main/winequality-red0.csv"
      ],
      "execution_count": null,
      "outputs": [
        {
          "output_type": "stream",
          "text": [
            "--2021-04-22 23:34:57--  https://raw.githubusercontent.com/sirishanarayansa/AI/main/winequality-red0.csv\n",
            "Resolving raw.githubusercontent.com (raw.githubusercontent.com)... 185.199.108.133, 185.199.109.133, 185.199.110.133, ...\n",
            "Connecting to raw.githubusercontent.com (raw.githubusercontent.com)|185.199.108.133|:443... connected.\n",
            "HTTP request sent, awaiting response... 200 OK\n",
            "Length: 85733 (84K) [text/plain]\n",
            "Saving to: ‘winequality-red0.csv.2’\n",
            "\n",
            "\rwinequality-red0.cs   0%[                    ]       0  --.-KB/s               \rwinequality-red0.cs 100%[===================>]  83.72K  --.-KB/s    in 0.003s  \n",
            "\n",
            "2021-04-22 23:34:58 (27.9 MB/s) - ‘winequality-red0.csv.2’ saved [85733/85733]\n",
            "\n"
          ],
          "name": "stdout"
        }
      ]
    },
    {
      "cell_type": "code",
      "metadata": {
        "id": "e41f0FPh6IYO"
      },
      "source": [
        "import pandas as pd\n",
        "data = pd.read_csv('winequality-red0.csv', delimiter = ',')"
      ],
      "execution_count": null,
      "outputs": []
    },
    {
      "cell_type": "code",
      "metadata": {
        "colab": {
          "base_uri": "https://localhost:8080/",
          "height": 204
        },
        "id": "hoK1KhIG6Lfs",
        "outputId": "4dd82fdf-3c2d-42d6-9c80-381d530d63e2"
      },
      "source": [
        "data.head()"
      ],
      "execution_count": null,
      "outputs": [
        {
          "output_type": "execute_result",
          "data": {
            "text/html": [
              "<div>\n",
              "<style scoped>\n",
              "    .dataframe tbody tr th:only-of-type {\n",
              "        vertical-align: middle;\n",
              "    }\n",
              "\n",
              "    .dataframe tbody tr th {\n",
              "        vertical-align: top;\n",
              "    }\n",
              "\n",
              "    .dataframe thead th {\n",
              "        text-align: right;\n",
              "    }\n",
              "</style>\n",
              "<table border=\"1\" class=\"dataframe\">\n",
              "  <thead>\n",
              "    <tr style=\"text-align: right;\">\n",
              "      <th></th>\n",
              "      <th>fixedAcidity</th>\n",
              "      <th>volatileAcidity</th>\n",
              "      <th>citricAcid</th>\n",
              "      <th>residualSugar</th>\n",
              "      <th>chlorides</th>\n",
              "      <th>freeSulfurDioxide</th>\n",
              "      <th>totalSulfurDioxide</th>\n",
              "      <th>density</th>\n",
              "      <th>pH</th>\n",
              "      <th>sulphates</th>\n",
              "      <th>alcohol</th>\n",
              "      <th>quality</th>\n",
              "    </tr>\n",
              "  </thead>\n",
              "  <tbody>\n",
              "    <tr>\n",
              "      <th>0</th>\n",
              "      <td>7.4</td>\n",
              "      <td>0.70</td>\n",
              "      <td>0.00</td>\n",
              "      <td>1.9</td>\n",
              "      <td>0.076</td>\n",
              "      <td>11.0</td>\n",
              "      <td>34.0</td>\n",
              "      <td>0.9978</td>\n",
              "      <td>3.51</td>\n",
              "      <td>0.56</td>\n",
              "      <td>9.4</td>\n",
              "      <td>0</td>\n",
              "    </tr>\n",
              "    <tr>\n",
              "      <th>1</th>\n",
              "      <td>7.8</td>\n",
              "      <td>0.88</td>\n",
              "      <td>0.00</td>\n",
              "      <td>2.6</td>\n",
              "      <td>0.098</td>\n",
              "      <td>25.0</td>\n",
              "      <td>67.0</td>\n",
              "      <td>0.9968</td>\n",
              "      <td>3.20</td>\n",
              "      <td>0.68</td>\n",
              "      <td>9.8</td>\n",
              "      <td>0</td>\n",
              "    </tr>\n",
              "    <tr>\n",
              "      <th>2</th>\n",
              "      <td>7.8</td>\n",
              "      <td>0.76</td>\n",
              "      <td>0.04</td>\n",
              "      <td>2.3</td>\n",
              "      <td>0.092</td>\n",
              "      <td>15.0</td>\n",
              "      <td>54.0</td>\n",
              "      <td>0.9970</td>\n",
              "      <td>3.26</td>\n",
              "      <td>0.65</td>\n",
              "      <td>9.8</td>\n",
              "      <td>0</td>\n",
              "    </tr>\n",
              "    <tr>\n",
              "      <th>3</th>\n",
              "      <td>11.2</td>\n",
              "      <td>0.28</td>\n",
              "      <td>0.56</td>\n",
              "      <td>1.9</td>\n",
              "      <td>0.075</td>\n",
              "      <td>17.0</td>\n",
              "      <td>60.0</td>\n",
              "      <td>0.9980</td>\n",
              "      <td>3.16</td>\n",
              "      <td>0.58</td>\n",
              "      <td>9.8</td>\n",
              "      <td>1</td>\n",
              "    </tr>\n",
              "    <tr>\n",
              "      <th>4</th>\n",
              "      <td>7.4</td>\n",
              "      <td>0.70</td>\n",
              "      <td>0.00</td>\n",
              "      <td>1.9</td>\n",
              "      <td>0.076</td>\n",
              "      <td>11.0</td>\n",
              "      <td>34.0</td>\n",
              "      <td>0.9978</td>\n",
              "      <td>3.51</td>\n",
              "      <td>0.56</td>\n",
              "      <td>9.4</td>\n",
              "      <td>0</td>\n",
              "    </tr>\n",
              "  </tbody>\n",
              "</table>\n",
              "</div>"
            ],
            "text/plain": [
              "   fixedAcidity  volatileAcidity  citricAcid  ...  sulphates  alcohol  quality\n",
              "0           7.4             0.70        0.00  ...       0.56      9.4        0\n",
              "1           7.8             0.88        0.00  ...       0.68      9.8        0\n",
              "2           7.8             0.76        0.04  ...       0.65      9.8        0\n",
              "3          11.2             0.28        0.56  ...       0.58      9.8        1\n",
              "4           7.4             0.70        0.00  ...       0.56      9.4        0\n",
              "\n",
              "[5 rows x 12 columns]"
            ]
          },
          "metadata": {
            "tags": []
          },
          "execution_count": 27
        }
      ]
    },
    {
      "cell_type": "code",
      "metadata": {
        "colab": {
          "base_uri": "https://localhost:8080/"
        },
        "id": "GQM18Liz6P3X",
        "outputId": "dd411f01-8388-4f90-8470-4982852edb46"
      },
      "source": [
        "print(data.shape)"
      ],
      "execution_count": null,
      "outputs": [
        {
          "output_type": "stream",
          "text": [
            "(1599, 12)\n"
          ],
          "name": "stdout"
        }
      ]
    },
    {
      "cell_type": "code",
      "metadata": {
        "id": "PBrqiX7e6TyX"
      },
      "source": [
        "import numpy as np\n",
        "dataset = np.genfromtxt('winequality-red0.csv', delimiter = ',', skip_header = True)"
      ],
      "execution_count": null,
      "outputs": []
    },
    {
      "cell_type": "code",
      "metadata": {
        "colab": {
          "base_uri": "https://localhost:8080/"
        },
        "id": "50ltXii36Xho",
        "outputId": "9d85a086-f34e-400c-aca7-90d8ecbefe6c"
      },
      "source": [
        "print(dataset.shape)"
      ],
      "execution_count": null,
      "outputs": [
        {
          "output_type": "stream",
          "text": [
            "(1599, 12)\n"
          ],
          "name": "stdout"
        }
      ]
    },
    {
      "cell_type": "code",
      "metadata": {
        "id": "XlhV-uCJ6bLT"
      },
      "source": [
        "import matplotlib.pyplot as plt"
      ],
      "execution_count": null,
      "outputs": []
    },
    {
      "cell_type": "code",
      "metadata": {
        "id": "kG3knuda6epH"
      },
      "source": [
        "np.set_printoptions(formatter = {'float': '{: 0.2f}'.format})"
      ],
      "execution_count": null,
      "outputs": []
    },
    {
      "cell_type": "code",
      "metadata": {
        "id": "KtdZbTHOKuQf"
      },
      "source": [
        "import random\n",
        "np.random.shuffle(dataset)"
      ],
      "execution_count": null,
      "outputs": []
    },
    {
      "cell_type": "code",
      "metadata": {
        "id": "MAG43yKL6jFS"
      },
      "source": [
        "X = dataset[:,]\n",
        "Y = dataset[:,-1]"
      ],
      "execution_count": null,
      "outputs": []
    },
    {
      "cell_type": "code",
      "metadata": {
        "colab": {
          "base_uri": "https://localhost:8080/"
        },
        "id": "_W8ZN9z86oOy",
        "outputId": "d6e20300-bf5c-4296-9dbf-438259931574"
      },
      "source": [
        "print(X.shape , Y.shape)"
      ],
      "execution_count": null,
      "outputs": [
        {
          "output_type": "stream",
          "text": [
            "(1599, 12) (1599,)\n"
          ],
          "name": "stdout"
        }
      ]
    },
    {
      "cell_type": "code",
      "metadata": {
        "colab": {
          "base_uri": "https://localhost:8080/"
        },
        "id": "c7rT1s8N6uFS",
        "outputId": "aa05bfa7-8a83-4910-f5f4-8f1f9715ebe6"
      },
      "source": [
        "print(X)"
      ],
      "execution_count": null,
      "outputs": [
        {
          "output_type": "stream",
          "text": [
            "[[ 9.80  0.45  0.38 ...  3.15  0.58  9.80]\n",
            " [ 6.80  0.56  0.03 ...  3.44  0.63  10.00]\n",
            " [ 6.60  0.84  0.03 ...  3.52  0.56  12.30]\n",
            " ...\n",
            " [ 9.00  0.82  0.14 ...  3.39  0.63  9.80]\n",
            " [ 6.50  0.46  0.14 ...  3.66  0.65  9.80]\n",
            " [ 10.00  0.35  0.45 ...  3.15  0.43  9.40]]\n"
          ],
          "name": "stdout"
        }
      ]
    },
    {
      "cell_type": "code",
      "metadata": {
        "id": "_2XUC1rA6x5m"
      },
      "source": [
        "min = X.min(axis = 0) \n",
        "max = X.max(axis = 0) \n",
        "X = (X - min) / (max - min)"
      ],
      "execution_count": null,
      "outputs": []
    },
    {
      "cell_type": "code",
      "metadata": {
        "colab": {
          "base_uri": "https://localhost:8080/"
        },
        "id": "at4kYCau6zJx",
        "outputId": "72465875-90fd-4564-c6f8-bb9fc5ba7294"
      },
      "source": [
        "print(X[:5])"
      ],
      "execution_count": null,
      "outputs": [
        {
          "output_type": "stream",
          "text": [
            "[[ 0.46  0.23  0.38  0.11  0.12  0.46  0.21  0.53  0.32  0.15  0.22]\n",
            " [ 0.19  0.30  0.03  0.05  0.12  0.24  0.10  0.49  0.55  0.18  0.25]\n",
            " [ 0.18  0.49  0.03  0.10  0.08  0.44  0.15  0.38  0.61  0.14  0.60]\n",
            " [ 0.27  0.39  0.05  0.12  0.11  0.20  0.07  0.54  0.41  0.17  0.11]\n",
            " [ 0.13  0.28  0.08  0.07  0.11  0.32  0.14  0.38  0.68  0.21  0.29]]\n"
          ],
          "name": "stdout"
        }
      ]
    },
    {
      "cell_type": "code",
      "metadata": {
        "colab": {
          "base_uri": "https://localhost:8080/"
        },
        "id": "JM-jz5wM6_mT",
        "outputId": "9cf85579-9c15-46ef-c27c-77fd1c9a39a2"
      },
      "source": [
        "index_10percent = int(0.1 * len(X[:, 0]))\n",
        "print(index_10percent)\n",
        "XVALID = X[:index_10percent, :]\n",
        "YVALID = Y[:index_10percent]\n",
        "XTRAIN = X[index_10percent:, :]\n",
        "YTRAIN = Y[index_10percent:]"
      ],
      "execution_count": null,
      "outputs": [
        {
          "output_type": "stream",
          "text": [
            "159\n"
          ],
          "name": "stdout"
        }
      ]
    },
    {
      "cell_type": "code",
      "metadata": {
        "colab": {
          "base_uri": "https://localhost:8080/"
        },
        "id": "hHtdr_PO7MmL",
        "outputId": "a1d9e29f-72f5-49cf-ee1d-01319abf5ef8"
      },
      "source": [
        "print(XTRAIN , YTRAIN)"
      ],
      "execution_count": null,
      "outputs": [
        {
          "output_type": "stream",
          "text": [
            "[[ 0.27  0.25  0.26 ...  0.19  0.18  0.00]\n",
            " [ 0.41  0.27  1.00 ...  1.00  0.15  0.00]\n",
            " [ 0.39  0.23  0.31 ...  0.18  0.17  1.00]\n",
            " ...\n",
            " [ 0.39  0.48  0.14 ...  0.18  0.22  0.00]\n",
            " [ 0.17  0.23  0.14 ...  0.19  0.22  0.00]\n",
            " [ 0.48  0.16  0.45 ...  0.06  0.15  0.00]] [ 0.00  0.00  1.00 ...  0.00  0.00  0.00]\n"
          ],
          "name": "stdout"
        }
      ]
    },
    {
      "cell_type": "code",
      "metadata": {
        "id": "85GVmVbW7THx"
      },
      "source": [
        "from tensorflow.keras.models import Sequential\n",
        "from tensorflow.keras.layers import Dense"
      ],
      "execution_count": null,
      "outputs": []
    },
    {
      "cell_type": "code",
      "metadata": {
        "id": "LxqoDyOw7ZEk"
      },
      "source": [
        "model_0 = Sequential()\n",
        "model_0.add(Dense(1, input_dim = len(XTRAIN[0, :]), activation='sigmoid'))\n",
        "model_0.compile(loss='binary_crossentropy', optimizer = 'rmsprop', metrics=['accuracy'])"
      ],
      "execution_count": null,
      "outputs": []
    },
    {
      "cell_type": "code",
      "metadata": {
        "colab": {
          "base_uri": "https://localhost:8080/"
        },
        "id": "qpazchqK7a83",
        "outputId": "1a3fdbeb-82b6-4f73-bb53-39d4c9f6b97e"
      },
      "source": [
        "history_0 = model_0.fit(XTRAIN, YTRAIN, validation_data=(XVALID, YVALID), epochs = 100, batch_size=10)"
      ],
      "execution_count": null,
      "outputs": [
        {
          "output_type": "stream",
          "text": [
            "Epoch 1/100\n",
            "144/144 [==============================] - 1s 2ms/step - loss: 0.7753 - accuracy: 0.3499 - val_loss: 0.7347 - val_accuracy: 0.5220\n",
            "Epoch 2/100\n",
            "144/144 [==============================] - 0s 1ms/step - loss: 0.7390 - accuracy: 0.4792 - val_loss: 0.6932 - val_accuracy: 0.5535\n",
            "Epoch 3/100\n",
            "144/144 [==============================] - 0s 1ms/step - loss: 0.6954 - accuracy: 0.5375 - val_loss: 0.6529 - val_accuracy: 0.5849\n",
            "Epoch 4/100\n",
            "144/144 [==============================] - 0s 1ms/step - loss: 0.6540 - accuracy: 0.5705 - val_loss: 0.6143 - val_accuracy: 0.6792\n",
            "Epoch 5/100\n",
            "144/144 [==============================] - 0s 1ms/step - loss: 0.6190 - accuracy: 0.6365 - val_loss: 0.5781 - val_accuracy: 0.7673\n",
            "Epoch 6/100\n",
            "144/144 [==============================] - 0s 1ms/step - loss: 0.5835 - accuracy: 0.7692 - val_loss: 0.5434 - val_accuracy: 0.8491\n",
            "Epoch 7/100\n",
            "144/144 [==============================] - 0s 1ms/step - loss: 0.5493 - accuracy: 0.8532 - val_loss: 0.5103 - val_accuracy: 0.9434\n",
            "Epoch 8/100\n",
            "144/144 [==============================] - 0s 1ms/step - loss: 0.5156 - accuracy: 0.9632 - val_loss: 0.4795 - val_accuracy: 0.9748\n",
            "Epoch 9/100\n",
            "144/144 [==============================] - 0s 1ms/step - loss: 0.4883 - accuracy: 0.9813 - val_loss: 0.4499 - val_accuracy: 0.9811\n",
            "Epoch 10/100\n",
            "144/144 [==============================] - 0s 1ms/step - loss: 0.4574 - accuracy: 0.9947 - val_loss: 0.4219 - val_accuracy: 0.9937\n",
            "Epoch 11/100\n",
            "144/144 [==============================] - 0s 1ms/step - loss: 0.4389 - accuracy: 0.9953 - val_loss: 0.3955 - val_accuracy: 1.0000\n",
            "Epoch 12/100\n",
            "144/144 [==============================] - 0s 2ms/step - loss: 0.4079 - accuracy: 0.9959 - val_loss: 0.3710 - val_accuracy: 1.0000\n",
            "Epoch 13/100\n",
            "144/144 [==============================] - 0s 1ms/step - loss: 0.3773 - accuracy: 0.9998 - val_loss: 0.3481 - val_accuracy: 1.0000\n",
            "Epoch 14/100\n",
            "144/144 [==============================] - 0s 1ms/step - loss: 0.3591 - accuracy: 0.9992 - val_loss: 0.3262 - val_accuracy: 1.0000\n",
            "Epoch 15/100\n",
            "144/144 [==============================] - 0s 1ms/step - loss: 0.3379 - accuracy: 1.0000 - val_loss: 0.3059 - val_accuracy: 1.0000\n",
            "Epoch 16/100\n",
            "144/144 [==============================] - 0s 1ms/step - loss: 0.3151 - accuracy: 1.0000 - val_loss: 0.2866 - val_accuracy: 1.0000\n",
            "Epoch 17/100\n",
            "144/144 [==============================] - 0s 1ms/step - loss: 0.2966 - accuracy: 1.0000 - val_loss: 0.2683 - val_accuracy: 1.0000\n",
            "Epoch 18/100\n",
            "144/144 [==============================] - 0s 1ms/step - loss: 0.2784 - accuracy: 1.0000 - val_loss: 0.2512 - val_accuracy: 1.0000\n",
            "Epoch 19/100\n",
            "144/144 [==============================] - 0s 1ms/step - loss: 0.2629 - accuracy: 1.0000 - val_loss: 0.2355 - val_accuracy: 1.0000\n",
            "Epoch 20/100\n",
            "144/144 [==============================] - 0s 1ms/step - loss: 0.2448 - accuracy: 1.0000 - val_loss: 0.2206 - val_accuracy: 1.0000\n",
            "Epoch 21/100\n",
            "144/144 [==============================] - 0s 1ms/step - loss: 0.2279 - accuracy: 1.0000 - val_loss: 0.2065 - val_accuracy: 1.0000\n",
            "Epoch 22/100\n",
            "144/144 [==============================] - 0s 1ms/step - loss: 0.2158 - accuracy: 1.0000 - val_loss: 0.1934 - val_accuracy: 1.0000\n",
            "Epoch 23/100\n",
            "144/144 [==============================] - 0s 1ms/step - loss: 0.2044 - accuracy: 1.0000 - val_loss: 0.1808 - val_accuracy: 1.0000\n",
            "Epoch 24/100\n",
            "144/144 [==============================] - 0s 1ms/step - loss: 0.1894 - accuracy: 1.0000 - val_loss: 0.1695 - val_accuracy: 1.0000\n",
            "Epoch 25/100\n",
            "144/144 [==============================] - 0s 1ms/step - loss: 0.1783 - accuracy: 1.0000 - val_loss: 0.1588 - val_accuracy: 1.0000\n",
            "Epoch 26/100\n",
            "144/144 [==============================] - 0s 1ms/step - loss: 0.1665 - accuracy: 1.0000 - val_loss: 0.1487 - val_accuracy: 1.0000\n",
            "Epoch 27/100\n",
            "144/144 [==============================] - 0s 1ms/step - loss: 0.1539 - accuracy: 1.0000 - val_loss: 0.1392 - val_accuracy: 1.0000\n",
            "Epoch 28/100\n",
            "144/144 [==============================] - 0s 1ms/step - loss: 0.1469 - accuracy: 1.0000 - val_loss: 0.1303 - val_accuracy: 1.0000\n",
            "Epoch 29/100\n",
            "144/144 [==============================] - 0s 1ms/step - loss: 0.1369 - accuracy: 1.0000 - val_loss: 0.1220 - val_accuracy: 1.0000\n",
            "Epoch 30/100\n",
            "144/144 [==============================] - 0s 1ms/step - loss: 0.1331 - accuracy: 1.0000 - val_loss: 0.1142 - val_accuracy: 1.0000\n",
            "Epoch 31/100\n",
            "144/144 [==============================] - 0s 1ms/step - loss: 0.1182 - accuracy: 1.0000 - val_loss: 0.1070 - val_accuracy: 1.0000\n",
            "Epoch 32/100\n",
            "144/144 [==============================] - 0s 1ms/step - loss: 0.1119 - accuracy: 1.0000 - val_loss: 0.1003 - val_accuracy: 1.0000\n",
            "Epoch 33/100\n",
            "144/144 [==============================] - 0s 1ms/step - loss: 0.1068 - accuracy: 1.0000 - val_loss: 0.0939 - val_accuracy: 1.0000\n",
            "Epoch 34/100\n",
            "144/144 [==============================] - 0s 1ms/step - loss: 0.0994 - accuracy: 1.0000 - val_loss: 0.0880 - val_accuracy: 1.0000\n",
            "Epoch 35/100\n",
            "144/144 [==============================] - 0s 1ms/step - loss: 0.0940 - accuracy: 1.0000 - val_loss: 0.0823 - val_accuracy: 1.0000\n",
            "Epoch 36/100\n",
            "144/144 [==============================] - 0s 1ms/step - loss: 0.0872 - accuracy: 1.0000 - val_loss: 0.0772 - val_accuracy: 1.0000\n",
            "Epoch 37/100\n",
            "144/144 [==============================] - 0s 1ms/step - loss: 0.0843 - accuracy: 1.0000 - val_loss: 0.0723 - val_accuracy: 1.0000\n",
            "Epoch 38/100\n",
            "144/144 [==============================] - 0s 1ms/step - loss: 0.0784 - accuracy: 1.0000 - val_loss: 0.0678 - val_accuracy: 1.0000\n",
            "Epoch 39/100\n",
            "144/144 [==============================] - 0s 1ms/step - loss: 0.0726 - accuracy: 1.0000 - val_loss: 0.0634 - val_accuracy: 1.0000\n",
            "Epoch 40/100\n",
            "144/144 [==============================] - 0s 1ms/step - loss: 0.0678 - accuracy: 1.0000 - val_loss: 0.0594 - val_accuracy: 1.0000\n",
            "Epoch 41/100\n",
            "144/144 [==============================] - 0s 1ms/step - loss: 0.0639 - accuracy: 1.0000 - val_loss: 0.0557 - val_accuracy: 1.0000\n",
            "Epoch 42/100\n",
            "144/144 [==============================] - 0s 1ms/step - loss: 0.0589 - accuracy: 1.0000 - val_loss: 0.0521 - val_accuracy: 1.0000\n",
            "Epoch 43/100\n",
            "144/144 [==============================] - 0s 1ms/step - loss: 0.0557 - accuracy: 1.0000 - val_loss: 0.0488 - val_accuracy: 1.0000\n",
            "Epoch 44/100\n",
            "144/144 [==============================] - 0s 1ms/step - loss: 0.0532 - accuracy: 1.0000 - val_loss: 0.0457 - val_accuracy: 1.0000\n",
            "Epoch 45/100\n",
            "144/144 [==============================] - 0s 1ms/step - loss: 0.0485 - accuracy: 1.0000 - val_loss: 0.0428 - val_accuracy: 1.0000\n",
            "Epoch 46/100\n",
            "144/144 [==============================] - 0s 1ms/step - loss: 0.0464 - accuracy: 1.0000 - val_loss: 0.0401 - val_accuracy: 1.0000\n",
            "Epoch 47/100\n",
            "144/144 [==============================] - 0s 1ms/step - loss: 0.0425 - accuracy: 1.0000 - val_loss: 0.0375 - val_accuracy: 1.0000\n",
            "Epoch 48/100\n",
            "144/144 [==============================] - 0s 1ms/step - loss: 0.0398 - accuracy: 1.0000 - val_loss: 0.0352 - val_accuracy: 1.0000\n",
            "Epoch 49/100\n",
            "144/144 [==============================] - 0s 1ms/step - loss: 0.0381 - accuracy: 1.0000 - val_loss: 0.0330 - val_accuracy: 1.0000\n",
            "Epoch 50/100\n",
            "144/144 [==============================] - 0s 1ms/step - loss: 0.0349 - accuracy: 1.0000 - val_loss: 0.0309 - val_accuracy: 1.0000\n",
            "Epoch 51/100\n",
            "144/144 [==============================] - 0s 1ms/step - loss: 0.0337 - accuracy: 1.0000 - val_loss: 0.0289 - val_accuracy: 1.0000\n",
            "Epoch 52/100\n",
            "144/144 [==============================] - 0s 1ms/step - loss: 0.0316 - accuracy: 1.0000 - val_loss: 0.0271 - val_accuracy: 1.0000\n",
            "Epoch 53/100\n",
            "144/144 [==============================] - 0s 1ms/step - loss: 0.0285 - accuracy: 1.0000 - val_loss: 0.0254 - val_accuracy: 1.0000\n",
            "Epoch 54/100\n",
            "144/144 [==============================] - 0s 1ms/step - loss: 0.0274 - accuracy: 1.0000 - val_loss: 0.0238 - val_accuracy: 1.0000\n",
            "Epoch 55/100\n",
            "144/144 [==============================] - 0s 1ms/step - loss: 0.0262 - accuracy: 1.0000 - val_loss: 0.0223 - val_accuracy: 1.0000\n",
            "Epoch 56/100\n",
            "144/144 [==============================] - 0s 1ms/step - loss: 0.0238 - accuracy: 1.0000 - val_loss: 0.0209 - val_accuracy: 1.0000\n",
            "Epoch 57/100\n",
            "144/144 [==============================] - 0s 1ms/step - loss: 0.0225 - accuracy: 1.0000 - val_loss: 0.0196 - val_accuracy: 1.0000\n",
            "Epoch 58/100\n",
            "144/144 [==============================] - 0s 1ms/step - loss: 0.0216 - accuracy: 1.0000 - val_loss: 0.0184 - val_accuracy: 1.0000\n",
            "Epoch 59/100\n",
            "144/144 [==============================] - 0s 1ms/step - loss: 0.0198 - accuracy: 1.0000 - val_loss: 0.0173 - val_accuracy: 1.0000\n",
            "Epoch 60/100\n",
            "144/144 [==============================] - 0s 1ms/step - loss: 0.0191 - accuracy: 1.0000 - val_loss: 0.0162 - val_accuracy: 1.0000\n",
            "Epoch 61/100\n",
            "144/144 [==============================] - 0s 1ms/step - loss: 0.0173 - accuracy: 1.0000 - val_loss: 0.0152 - val_accuracy: 1.0000\n",
            "Epoch 62/100\n",
            "144/144 [==============================] - 0s 1ms/step - loss: 0.0168 - accuracy: 1.0000 - val_loss: 0.0142 - val_accuracy: 1.0000\n",
            "Epoch 63/100\n",
            "144/144 [==============================] - 0s 2ms/step - loss: 0.0153 - accuracy: 1.0000 - val_loss: 0.0134 - val_accuracy: 1.0000\n",
            "Epoch 64/100\n",
            "144/144 [==============================] - 0s 1ms/step - loss: 0.0143 - accuracy: 1.0000 - val_loss: 0.0125 - val_accuracy: 1.0000\n",
            "Epoch 65/100\n",
            "144/144 [==============================] - 0s 1ms/step - loss: 0.0135 - accuracy: 1.0000 - val_loss: 0.0117 - val_accuracy: 1.0000\n",
            "Epoch 66/100\n",
            "144/144 [==============================] - 0s 1ms/step - loss: 0.0129 - accuracy: 1.0000 - val_loss: 0.0110 - val_accuracy: 1.0000\n",
            "Epoch 67/100\n",
            "144/144 [==============================] - 0s 1ms/step - loss: 0.0119 - accuracy: 1.0000 - val_loss: 0.0103 - val_accuracy: 1.0000\n",
            "Epoch 68/100\n",
            "144/144 [==============================] - 0s 1ms/step - loss: 0.0111 - accuracy: 1.0000 - val_loss: 0.0097 - val_accuracy: 1.0000\n",
            "Epoch 69/100\n",
            "144/144 [==============================] - 0s 1ms/step - loss: 0.0105 - accuracy: 1.0000 - val_loss: 0.0091 - val_accuracy: 1.0000\n",
            "Epoch 70/100\n",
            "144/144 [==============================] - 0s 1ms/step - loss: 0.0099 - accuracy: 1.0000 - val_loss: 0.0085 - val_accuracy: 1.0000\n",
            "Epoch 71/100\n",
            "144/144 [==============================] - 0s 1ms/step - loss: 0.0093 - accuracy: 1.0000 - val_loss: 0.0080 - val_accuracy: 1.0000\n",
            "Epoch 72/100\n",
            "144/144 [==============================] - 0s 1ms/step - loss: 0.0085 - accuracy: 1.0000 - val_loss: 0.0075 - val_accuracy: 1.0000\n",
            "Epoch 73/100\n",
            "144/144 [==============================] - 0s 1ms/step - loss: 0.0081 - accuracy: 1.0000 - val_loss: 0.0070 - val_accuracy: 1.0000\n",
            "Epoch 74/100\n",
            "144/144 [==============================] - 0s 1ms/step - loss: 0.0076 - accuracy: 1.0000 - val_loss: 0.0066 - val_accuracy: 1.0000\n",
            "Epoch 75/100\n",
            "144/144 [==============================] - 0s 1ms/step - loss: 0.0072 - accuracy: 1.0000 - val_loss: 0.0062 - val_accuracy: 1.0000\n",
            "Epoch 76/100\n",
            "144/144 [==============================] - 0s 1ms/step - loss: 0.0069 - accuracy: 1.0000 - val_loss: 0.0058 - val_accuracy: 1.0000\n",
            "Epoch 77/100\n",
            "144/144 [==============================] - 0s 1ms/step - loss: 0.0062 - accuracy: 1.0000 - val_loss: 0.0054 - val_accuracy: 1.0000\n",
            "Epoch 78/100\n",
            "144/144 [==============================] - 0s 1ms/step - loss: 0.0060 - accuracy: 1.0000 - val_loss: 0.0051 - val_accuracy: 1.0000\n",
            "Epoch 79/100\n",
            "144/144 [==============================] - 0s 1ms/step - loss: 0.0055 - accuracy: 1.0000 - val_loss: 0.0048 - val_accuracy: 1.0000\n",
            "Epoch 80/100\n",
            "144/144 [==============================] - 0s 1ms/step - loss: 0.0051 - accuracy: 1.0000 - val_loss: 0.0045 - val_accuracy: 1.0000\n",
            "Epoch 81/100\n",
            "144/144 [==============================] - 0s 1ms/step - loss: 0.0048 - accuracy: 1.0000 - val_loss: 0.0042 - val_accuracy: 1.0000\n",
            "Epoch 82/100\n",
            "144/144 [==============================] - 0s 1ms/step - loss: 0.0047 - accuracy: 1.0000 - val_loss: 0.0040 - val_accuracy: 1.0000\n",
            "Epoch 83/100\n",
            "144/144 [==============================] - 0s 1ms/step - loss: 0.0043 - accuracy: 1.0000 - val_loss: 0.0037 - val_accuracy: 1.0000\n",
            "Epoch 84/100\n",
            "144/144 [==============================] - 0s 1ms/step - loss: 0.0042 - accuracy: 1.0000 - val_loss: 0.0035 - val_accuracy: 1.0000\n",
            "Epoch 85/100\n",
            "144/144 [==============================] - 0s 1ms/step - loss: 0.0039 - accuracy: 1.0000 - val_loss: 0.0033 - val_accuracy: 1.0000\n",
            "Epoch 86/100\n",
            "144/144 [==============================] - 0s 1ms/step - loss: 0.0036 - accuracy: 1.0000 - val_loss: 0.0031 - val_accuracy: 1.0000\n",
            "Epoch 87/100\n",
            "144/144 [==============================] - 0s 1ms/step - loss: 0.0033 - accuracy: 1.0000 - val_loss: 0.0029 - val_accuracy: 1.0000\n",
            "Epoch 88/100\n",
            "144/144 [==============================] - 0s 1ms/step - loss: 0.0031 - accuracy: 1.0000 - val_loss: 0.0027 - val_accuracy: 1.0000\n",
            "Epoch 89/100\n",
            "144/144 [==============================] - 0s 1ms/step - loss: 0.0029 - accuracy: 1.0000 - val_loss: 0.0025 - val_accuracy: 1.0000\n",
            "Epoch 90/100\n",
            "144/144 [==============================] - 0s 2ms/step - loss: 0.0027 - accuracy: 1.0000 - val_loss: 0.0024 - val_accuracy: 1.0000\n",
            "Epoch 91/100\n",
            "144/144 [==============================] - 0s 1ms/step - loss: 0.0025 - accuracy: 1.0000 - val_loss: 0.0022 - val_accuracy: 1.0000\n",
            "Epoch 92/100\n",
            "144/144 [==============================] - 0s 2ms/step - loss: 0.0024 - accuracy: 1.0000 - val_loss: 0.0021 - val_accuracy: 1.0000\n",
            "Epoch 93/100\n",
            "144/144 [==============================] - 0s 1ms/step - loss: 0.0023 - accuracy: 1.0000 - val_loss: 0.0020 - val_accuracy: 1.0000\n",
            "Epoch 94/100\n",
            "144/144 [==============================] - 0s 1ms/step - loss: 0.0021 - accuracy: 1.0000 - val_loss: 0.0018 - val_accuracy: 1.0000\n",
            "Epoch 95/100\n",
            "144/144 [==============================] - 0s 1ms/step - loss: 0.0020 - accuracy: 1.0000 - val_loss: 0.0017 - val_accuracy: 1.0000\n",
            "Epoch 96/100\n",
            "144/144 [==============================] - 0s 1ms/step - loss: 0.0019 - accuracy: 1.0000 - val_loss: 0.0016 - val_accuracy: 1.0000\n",
            "Epoch 97/100\n",
            "144/144 [==============================] - 0s 1ms/step - loss: 0.0018 - accuracy: 1.0000 - val_loss: 0.0015 - val_accuracy: 1.0000\n",
            "Epoch 98/100\n",
            "144/144 [==============================] - 0s 1ms/step - loss: 0.0017 - accuracy: 1.0000 - val_loss: 0.0014 - val_accuracy: 1.0000\n",
            "Epoch 99/100\n",
            "144/144 [==============================] - 0s 1ms/step - loss: 0.0015 - accuracy: 1.0000 - val_loss: 0.0013 - val_accuracy: 1.0000\n",
            "Epoch 100/100\n",
            "144/144 [==============================] - 0s 1ms/step - loss: 0.0015 - accuracy: 1.0000 - val_loss: 0.0013 - val_accuracy: 1.0000\n"
          ],
          "name": "stdout"
        }
      ]
    },
    {
      "cell_type": "code",
      "metadata": {
        "colab": {
          "base_uri": "https://localhost:8080/",
          "height": 279
        },
        "id": "wpkBVsBz7oUk",
        "outputId": "fa7779b7-680c-41e8-cd08-8fe2e76fec45"
      },
      "source": [
        "plt.plot(history_0.history['accuracy'])\n",
        "plt.plot(history_0.history['val_accuracy'])\n",
        "plt.ylabel('Accuracy')\n",
        "plt.xlabel('epoch')\n",
        "plt.legend(['training data', 'validation data'], loc='lower right')\n",
        "plt.show()"
      ],
      "execution_count": null,
      "outputs": [
        {
          "output_type": "display_data",
          "data": {
            "image/png": "[encoded data removed]",
            "text/plain": [
              "<Figure size 432x288 with 1 Axes>"
            ]
          },
          "metadata": {
            "tags": [],
            "needs_background": "light"
          }
        }
      ]
    }
  ]
}